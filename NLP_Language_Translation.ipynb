{
 "cells": [
  {
   "cell_type": "code",
   "execution_count": 2,
   "id": "3091357d",
   "metadata": {
    "scrolled": true
   },
   "outputs": [
    {
     "name": "stdout",
     "output_type": "stream",
     "text": [
      "Enter the English sentence to translate (or 'q' to quit): hello what's up\n",
      "Translated text: hello alzada\n",
      "\n",
      "Enter the English sentence to translate (or 'q' to quit): Saturday\n",
      "Translated text: bado\n",
      "\n",
      "Enter the English sentence to translate (or 'q' to quit): I like eating food\n",
      "Translated text: yo agrade comiendo comida\n",
      "\n",
      "Enter the English sentence to translate (or 'q' to quit): q\n",
      "Quitting...\n"
     ]
    }
   ],
   "source": [
    "import pandas as pd\n",
    "import re\n",
    "import nltk\n",
    "from nltk.translate import AlignedSent, IBMModel1\n",
    "# Load and Preprocess the Data\n",
    "df = pd.read_csv(\"engspn.csv\")\n",
    "english_sentences = df['english'].tolist()\n",
    "spanish_sentences = df['spanish'].tolist()\n",
    "def clean_sentences(sentences):\n",
    "    cleaned_sentences = []\n",
    "    for sentence in sentences:\n",
    "        sentence = sentence.strip()\n",
    "        sentence = sentence.lower()\n",
    "        sentence = re.sub(r\"[^a-zA-Z0-9]+\", \" \", sentence)\n",
    "        cleaned_sentences.append(sentence.strip())\n",
    "    return cleaned_sentences\n",
    "cleaned_english_sentences = clean_sentences(english_sentences)\n",
    "cleaned_spanish_sentences = clean_sentences(spanish_sentences)\n",
    "# Train the Translation Model\n",
    "def train_translation_model(source_sentences, target_sentences):\n",
    "    aligned_sentences = [AlignedSent(source.split(), target.split()) for source, target in zip(source_sentences, target_sentences)]\n",
    "    ibm_model = IBMModel1(aligned_sentences, 10)\n",
    "    return ibm_model\n",
    "translation_model = train_translation_model(cleaned_english_sentences, cleaned_spanish_sentences)\n",
    "# Translate Input Sentences\n",
    "def translate_input(ibm_model):\n",
    "    while True:\n",
    "        source_text = input(\"Enter the English sentence to translate (or 'q' to quit): \")\n",
    "        if source_text.lower() == 'q':\n",
    "            print(\"Quitting...\")\n",
    "            break\n",
    "        cleaned_text = clean_sentences(source_text.split())\n",
    "        source_words = cleaned_text\n",
    "        translated_words = []\n",
    "        for source_word in source_words:\n",
    "            max_prob = 0.0\n",
    "            translated_word = None\n",
    "            for target_word in ibm_model.translation_table[source_word]:\n",
    "                prob = ibm_model.translation_table[source_word][target_word]\n",
    "                if prob > max_prob:\n",
    "                    max_prob = prob\n",
    "                    translated_word = target_word\n",
    "            if translated_word is not None:\n",
    "                translated_words.append(translated_word)\n",
    "        translated_text = ' '.join(translated_words)\n",
    "        print(\"Translated text:\", translated_text)\n",
    "        print()\n",
    "translate_input(translation_model)"
   ]
  },
  {
   "cell_type": "code",
   "execution_count": null,
   "id": "de603011",
   "metadata": {},
   "outputs": [],
   "source": []
  }
 ],
 "metadata": {
  "kernelspec": {
   "display_name": "Python 3 (ipykernel)",
   "language": "python",
   "name": "python3"
  },
  "language_info": {
   "codemirror_mode": {
    "name": "ipython",
    "version": 3
   },
   "file_extension": ".py",
   "mimetype": "text/x-python",
   "name": "python",
   "nbconvert_exporter": "python",
   "pygments_lexer": "ipython3",
   "version": "3.11.5"
  }
 },
 "nbformat": 4,
 "nbformat_minor": 5
}
